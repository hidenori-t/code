{
 "cells": [
  {
   "cell_type": "code",
   "execution_count": null,
   "metadata": {
    "collapsed": false
   },
   "outputs": [
    {
     "name": "stdout",
     "output_type": "stream",
     "text": [
      "__main__\n"
     ]
    }
   ],
   "source": [
    "# 『Pythonからはじめる数学入門』:p235-236\n",
    "# B.1　if __name__ == '__main__':\n",
    "# Find the factorial of a number\n",
    "\n",
    "def fact(n):\n",
    "    p = 1\n",
    "    for i in range(1, n+1):\n",
    "        p = p*i\n",
    "    return p\n",
    "print(__name__)\n",
    "if __name__ == '__main__':\n",
    "    n = int(input('Enter an integer to find the factorial of: '))\n",
    "    f = fact(n)\n",
    "    print('factorial of {0}: {1}'.format(n, f))"
   ]
  },
  {
   "cell_type": "code",
   "execution_count": 1,
   "metadata": {
    "collapsed": false
   },
   "outputs": [
    {
     "data": {
      "text/plain": [
       "[1, 4, 9, 16]"
      ]
     },
     "execution_count": 1,
     "metadata": {},
     "output_type": "execute_result"
    }
   ],
   "source": [
    "\"\"\"\n",
    "p.236\n",
    "B.2　リスト内包表記(list comprehensions)\n",
    "\"\"\"\n",
    "x = [1, 2, 3, 4]\n",
    "x_square = [n**2 for n in x]\n",
    "x_square"
   ]
  },
  {
   "cell_type": "code",
   "execution_count": 2,
   "metadata": {
    "collapsed": false
   },
   "outputs": [
    {
     "ename": "NameError",
     "evalue": "name 'frange' is not defined",
     "output_type": "error",
     "traceback": [
      "\u001b[0;31m---------------------------------------------------------------------------\u001b[0m",
      "\u001b[0;31mNameError\u001b[0m                                 Traceback (most recent call last)",
      "\u001b[0;32m<ipython-input-2-7907c58313c8>\u001b[0m in \u001b[0;36m<module>\u001b[0;34m()\u001b[0m\n\u001b[1;32m      1\u001b[0m \u001b[0;31m# Find the intervals 区間を求める\u001b[0m\u001b[0;34m\u001b[0m\u001b[0;34m\u001b[0m\u001b[0m\n\u001b[0;32m----> 2\u001b[0;31m \u001b[0mintervals\u001b[0m \u001b[0;34m=\u001b[0m \u001b[0mfrange\u001b[0m\u001b[0;34m(\u001b[0m\u001b[0;36m0\u001b[0m\u001b[0;34m,\u001b[0m \u001b[0mt_flight\u001b[0m\u001b[0;34m,\u001b[0m \u001b[0;36m0.001\u001b[0m\u001b[0;34m)\u001b[0m\u001b[0;34m\u001b[0m\u001b[0m\n\u001b[0m\u001b[1;32m      3\u001b[0m \u001b[0;31m# List of x and y coordinates\u001b[0m\u001b[0;34m\u001b[0m\u001b[0;34m\u001b[0m\u001b[0m\n\u001b[1;32m      4\u001b[0m \u001b[0mx\u001b[0m \u001b[0;34m=\u001b[0m \u001b[0;34m[\u001b[0m\u001b[0;34m]\u001b[0m\u001b[0;34m\u001b[0m\u001b[0m\n\u001b[1;32m      5\u001b[0m \u001b[0my\u001b[0m \u001b[0;34m=\u001b[0m \u001b[0;34m[\u001b[0m\u001b[0;34m]\u001b[0m\u001b[0;34m\u001b[0m\u001b[0m\n",
      "\u001b[0;31mNameError\u001b[0m: name 'frange' is not defined"
     ]
    }
   ],
   "source": [
    "# Find the intervals 区間を求める\n",
    "intervals = frange(0, t_flight, 0.001)\n",
    "# List of x and y coordinates\n",
    "x = []\n",
    "y = []\n",
    "for t in intervals:\n",
    "    x.append(u*math.cos(theta)*t)\n",
    "    y.append(u*math.sin(theta)*t - 0.5*g*t*t)"
   ]
  },
  {
   "cell_type": "code",
   "execution_count": null,
   "metadata": {
    "collapsed": true
   },
   "outputs": [],
   "source": [
    "# list comprehensions\n",
    "x = [u*math.cos(theta)*t for t in intervals]\n",
    "y = [u*math.sin(theta)*t - 0.5*g*t*t for t in intervals]"
   ]
  },
  {
   "cell_type": "code",
   "execution_count": null,
   "metadata": {
    "collapsed": true
   },
   "outputs": [],
   "source": [
    "# 式の中のどのリスト要素を評価するか選択するための条件をリスト内包表記に追加\n",
    "x = [1, 2, 3, 4]\n",
    "x_square = [n**2 for n in x if n%2 == 0]\n",
    "x_square"
   ]
  },
  {
   "cell_type": "markdown",
   "metadata": {},
   "source": [
    "# B.6(p.245)"
   ]
  },
  {
   "cell_type": "code",
   "execution_count": null,
   "metadata": {
    "collapsed": true
   },
   "outputs": [],
   "source": [
    "def read_data(path):\n",
    "    numbers = []\n",
    "    f = open(path)\n",
    "    for line in f:\n",
    "        numbers.append(float(line))\n",
    "    f.close\n",
    "    return numbers"
   ]
  },
  {
   "cell_type": "code",
   "execution_count": null,
   "metadata": {
    "collapsed": true
   },
   "outputs": [],
   "source": [
    "def read_data(path):\n",
    "    numbers = []\n",
    "    with open(path) as f: #  with がポイントで明示的な close()メソッドが不必要\n",
    "        for line in f:\n",
    "            numbers.append(float(line))\n",
    "    return numbers"
   ]
  },
  {
   "cell_type": "markdown",
   "metadata": {},
   "source": [
    "# B.6.1(p.246)"
   ]
  },
  {
   "cell_type": "code",
   "execution_count": 1,
   "metadata": {
    "collapsed": false
   },
   "outputs": [
    {
     "name": "stdout",
     "output_type": "stream",
     "text": [
      "Enter the path of the file: /Users/tatarahidenori/GitHub/code/chapter3/mydata.txt\n",
      "[100.0, 60.0, 70.0, 900.0, 100.0, 200.0, 500.0, 500.0, 503.0, 600.0, 1000.0, 1200.0]\n"
     ]
    }
   ],
   "source": [
    "def read_data(path):\n",
    "    with open(path) as f:\n",
    "        lines = f.readlines()\n",
    "    numbers = [float(n) for n in lines]\n",
    "    return numbers\n",
    "\n",
    "# B.6.2 ファイル名を入力で指定する\n",
    "if __name__ == '__main__':\n",
    "    data_file = input('Enter the path of the file: ')\n",
    "    data = read_data(data_file)\n",
    "    print(data)"
   ]
  },
  {
   "cell_type": "markdown",
   "metadata": {},
   "source": [
    "# B.6.3(p.247)"
   ]
  },
  {
   "cell_type": "code",
   "execution_count": 3,
   "metadata": {
    "collapsed": false
   },
   "outputs": [
    {
     "name": "stdout",
     "output_type": "stream",
     "text": [
      "Enter the path of the file: /Users/tatarahidenori/GitHub/code/mydata.txt\n",
      "File not found\n",
      "[]\n"
     ]
    }
   ],
   "source": [
    "def read_data(path):\n",
    "    numbers = []\n",
    "    try:\n",
    "        with open(path) as f:\n",
    "            for line in f:\n",
    "                numbers.append(float(line))\n",
    "    except FileNotFoundError:\n",
    "        print('File not found')\n",
    "    return numbers\n",
    "\n",
    "if __name__ == '__main__':\n",
    "    data_file = input('Enter the path of the file: ')\n",
    "    data = read_data(data_file)\n",
    "    print(data)"
   ]
  },
  {
   "cell_type": "code",
   "execution_count": 1,
   "metadata": {
    "collapsed": false
   },
   "outputs": [
    {
     "name": "stdout",
     "output_type": "stream",
     "text": [
      "Enter the path of the file: /Users/tatarahidenori/GitHub/code/付録B/bad_data.txt\n",
      "Bad data: 3o\n",
      "\n",
      "[10.0, 20.0]\n"
     ]
    }
   ],
   "source": [
    "def read_data(path):\n",
    "    numbers = []\n",
    "    try:\n",
    "        with open(path) as f:\n",
    "            for line in f:\n",
    "                try:\n",
    "                    n = float(line)\n",
    "                except ValueError:\n",
    "                    print('Bad data: {0}'.format(line))\n",
    "                    break \n",
    "                numbers.append(float(line))\n",
    "    except FileNotFoundError:\n",
    "        print('File not found')\n",
    "    return numbers\n",
    "\n",
    "if __name__ == '__main__':\n",
    "    data_file = input('Enter the path of the file: ')\n",
    "    data = read_data(data_file)\n",
    "    print(data)"
   ]
  },
  {
   "cell_type": "code",
   "execution_count": 2,
   "metadata": {
    "collapsed": false
   },
   "outputs": [
    {
     "name": "stdout",
     "output_type": "stream",
     "text": [
      "Enter the path of the file: /Users/tatarahidenori/GitHub/code/付録B/bad_data.txt\n",
      "Bad data: 3o\n",
      "\n",
      "None\n"
     ]
    }
   ],
   "source": [
    "def read_data(path):\n",
    "    numbers = []\n",
    "    try:\n",
    "        with open(path) as f:\n",
    "            for line in f:\n",
    "                try:\n",
    "                    n = float(line)\n",
    "                except ValueError:\n",
    "                    print('Bad data: {0}'.format(line))\n",
    "                    return \n",
    "                numbers.append(float(line))\n",
    "    except FileNotFoundError:\n",
    "        print('File not found')\n",
    "    return numbers\n",
    "\n",
    "if __name__ == '__main__':\n",
    "    data_file = input('Enter the path of the file: ')\n",
    "    data = read_data(data_file)\n",
    "    print(data)"
   ]
  },
  {
   "cell_type": "code",
   "execution_count": 3,
   "metadata": {
    "collapsed": false
   },
   "outputs": [
    {
     "name": "stdout",
     "output_type": "stream",
     "text": [
      "Enter the path of the file: /Users/tatarahidenori/GitHub/code/付録B/bad_data.txt\n",
      "Bad data: 3o\n",
      "\n",
      "Bad data: 1/5\n",
      "\n",
      "[10.0, 20.0, 5.6]\n"
     ]
    }
   ],
   "source": [
    "def read_data(path):\n",
    "    numbers = []\n",
    "    try:\n",
    "        with open(path) as f:\n",
    "            for line in f:\n",
    "                try:\n",
    "                    n = float(line)\n",
    "                except ValueError:\n",
    "                    print('Bad data: {0}'.format(line))\n",
    "                    continue\n",
    "                numbers.append(float(line))\n",
    "    except FileNotFoundError:\n",
    "        print('File not found')\n",
    "    return numbers\n",
    "\n",
    "if __name__ == '__main__':\n",
    "    data_file = input('Enter the path of the file: ')\n",
    "    data = read_data(data_file)\n",
    "    print(data)"
   ]
  },
  {
   "cell_type": "markdown",
   "metadata": {},
   "source": [
    "# B.7"
   ]
  },
  {
   "cell_type": "code",
   "execution_count": null,
   "metadata": {
    "collapsed": true
   },
   "outputs": [],
   "source": []
  }
 ],
 "metadata": {
  "kernelspec": {
   "display_name": "Python 3",
   "language": "python",
   "name": "python3"
  },
  "language_info": {
   "codemirror_mode": {
    "name": "ipython",
    "version": 3
   },
   "file_extension": ".py",
   "mimetype": "text/x-python",
   "name": "python",
   "nbconvert_exporter": "python",
   "pygments_lexer": "ipython3",
   "version": "3.5.0"
  },
  "latex_envs": {
   "bibliofile": "biblio.bib",
   "cite_by": "apalike",
   "current_citInitial": 1,
   "eqLabelWithNumbers": true,
   "eqNumInitial": 0
  },
  "toc": {
   "toc_cell": false,
   "toc_number_sections": true,
   "toc_threshold": 6,
   "toc_window_display": false
  }
 },
 "nbformat": 4,
 "nbformat_minor": 0
}
